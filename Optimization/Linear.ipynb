{
 "metadata": {
  "language_info": {
   "codemirror_mode": {
    "name": "ipython",
    "version": 3
   },
   "file_extension": ".py",
   "mimetype": "text/x-python",
   "name": "python",
   "nbconvert_exporter": "python",
   "pygments_lexer": "ipython3",
   "version": "3.7.5-final"
  },
  "orig_nbformat": 2,
  "kernelspec": {
   "name": "myinterest",
   "display_name": "MyInterest",
   "language": "python"
  }
 },
 "nbformat": 4,
 "nbformat_minor": 2,
 "cells": [
  {
   "source": [
    "## 線形計画問題\n",
    "### 標準系の線形計画問題\n",
    "- 変数が非負で，等式制約しかもたない問題\n",
    "$$\n",
    "\\mbox{minimize} \\; \\; \\boldsymbol{c}^{\\mbox{T}}\\boldsymbol{x} \\\\\n",
    "\\mbox{subject to} \\; \\; A \\boldsymbol{x} = \\boldsymbol{b} \\\\\n",
    "\\boldsymbol{x} \\geq \\boldsymbol{0}\n",
    "$$\n",
    "where $\\boldsymbol{c} \\in \\mathbb{R}^n, \\; \\boldsymbol{b} \\in \\mathbb{R}^m, \\; A \\in \\mathbb{R}^{m \\times n} \\, (m \\leq n), \\; \\boldsymbol{x} \\in \\mathbb{R}^n$.\n",
    "- PythonのパッケージPulpを使って問題を定義し，ソルバーに解かせる．"
   ],
   "cell_type": "markdown",
   "metadata": {}
  },
  {
   "cell_type": "code",
   "execution_count": 1,
   "metadata": {},
   "outputs": [],
   "source": [
    "##### Packages #####\n",
    "import numpy as np\n",
    "import pulp as pp\n",
    "import matplotlib.pyplot as plt\n",
    "import time"
   ]
  },
  {
   "cell_type": "code",
   "execution_count": 2,
   "metadata": {},
   "outputs": [],
   "source": [
    "##### Function #####\n",
    "## Define Linear Problem\n",
    "## key:\n",
    "    # 1: Maximize\n",
    "    # other: Minimize\n",
    "## ineq:\n",
    "    # 1: >=\n",
    "    # -1: <= \n",
    "    # other: ==\n",
    "## Output:\n",
    "    # X_lst: variable, obj_val: objective value, time_solve: the time to solve\n",
    "def Linear_problem(matrixA, vectorb, vectorc, key, ineq, problem_name):\n",
    "    if key == 1:\n",
    "        problem = pp.LpProblem(problem_name, pp.LpMaximize)\n",
    "    else:\n",
    "        problem = pp.LpProblem(problem_name, pp.LpMinimize)\n",
    "    ## list of variables\n",
    "    x = [pp.LpVariable(\"x(%s)\"%i, cat=\"Continuous\") for i in range(len(vectorc))]\n",
    "    ## objective function\n",
    "    objective = pp.lpSum(vectorc[i] * x[i] for i in range(len(vectorc)))\n",
    "    problem += objective\n",
    "    ## constraints\n",
    "    ## it can be adapted if all constraints has the same inequality\n",
    "    for i in range(len(matrixA)):\n",
    "        if ineq == -1:\n",
    "            cst = pp.lpSum(matrixA[i][j] * x[j] for j in range(len(x))) <= vectorb[i]\n",
    "        elif ineq == 1:\n",
    "            cst = pp.lpSum(matrixA[i][j] * x[j] for j in range(len(x))) >= vectorb[i]\n",
    "        else:\n",
    "            cst = pp.lpSum(matrixA[i][j] * x[j] for j in range(len(x))) == vectorb[i]\n",
    "        problem += cst\n",
    "    for i in range(len(x)):\n",
    "        cst = x[i] >= 0\n",
    "        problem += cst\n",
    "    time_begin = time.time()\n",
    "    ## execute problem\n",
    "    status = problem.solve()\n",
    "    time_end = time.time()\n",
    "    time_solve = time_end - time_begin\n",
    "\n",
    "    ## print result\n",
    "    for i in range(len(x)):\n",
    "        print(\"x[%d]: %f\" % (i,x[i].value()))\n",
    "    print(\"objective: %f\" % objective.value())\n",
    "    print(\"time: %f\" % time_solve)\n",
    "\n",
    "    ## Output\n",
    "    # the list of x value\n",
    "    X_lst = []\n",
    "    for i in range(len(x)):\n",
    "        X_lst.append(x[i].value())\n",
    "    obj_val = objective.value()\n",
    "    return X_lst, obj_val, time_solve"
   ]
  },
  {
   "source": [
    "### 例題\n",
    "次の生産計画問題を考える．\n",
    "$$\n",
    "\\mbox{maximize} \\; \\; 4x_1 + 5x_2 \\\\\n",
    "\\mbox{subject to} \\; \\; 2.5x_1 + 5x_2 \\leq 350 \\\\\n",
    "5x_1 + 6x_2 \\leq 450 \\\\\n",
    "3x_1 + 2x_2 \\leq 240 \\\\\n",
    "x_1, x_2 \\geq 0\n",
    "$$\n",
    "行列$A$, ベクトル$\\boldsymbol{b}, \\boldsymbol{c}, \\boldsymbol{x}$を，\n",
    "$$\n",
    "A = \\left(\\begin{array}{cc}\n",
    "2.5 & 5 \\\\\n",
    "5 & 6 \\\\\n",
    "3 & 2\n",
    "\\end{array}\\right), \\; \\boldsymbol{b} = \\left(\n",
    "    \\begin{array}{c}\n",
    "    350 \\\\\n",
    "    450 \\\\\n",
    "    240\n",
    "    \\end{array}\n",
    "    \\right), \\; \\boldsymbol{c} = \\left(\n",
    "        \\begin{array}{c}\n",
    "        4 \\\\\n",
    "        5\n",
    "        \\end{array}\n",
    "        \\right), \\; \\boldsymbol{x} = \\left(\n",
    "            \\begin{array}{c}\n",
    "            x_1 \\\\\n",
    "            x_2\n",
    "            \\end{array}\n",
    "            \\right)\n",
    "$$\n",
    "とすると，この問題は，\n",
    "$$\n",
    "\\mbox{maximize} \\; \\; \\boldsymbol{c}^{\\mbox{T}}\\boldsymbol{x} \\\\\n",
    "\\mbox{subject to} \\; \\; A\\boldsymbol{x} \\leq \\boldsymbol{b}\\\\\n",
    "\\boldsymbol{x} \\geq \\boldsymbol{0}\n",
    "$$\n",
    "となる．"
   ],
   "cell_type": "markdown",
   "metadata": {}
  },
  {
   "cell_type": "code",
   "execution_count": 3,
   "metadata": {},
   "outputs": [
    {
     "output_type": "stream",
     "name": "stdout",
     "text": [
      "x[0]: 15.000000\nx[1]: 62.500000\nobjective: 372.500000\ntime: 0.007357\n"
     ]
    }
   ],
   "source": [
    "# 標準形に直さずに定義\n",
    "## parameter\n",
    "A = np.array([[2.5, 5], [5, 6], [3, 2]])\n",
    "b = np.array([[350], [450], [240]])\n",
    "c = np.array([[4], [5]])\n",
    "xlst, obj, t_solve = Linear_problem(A, b, c, 1, -1, \"Product\")"
   ]
  },
  {
   "source": [
    "上の問題を標準形に変形する．\n",
    "$$\n",
    "\\mbox{minimize} \\; \\; -4x_1 - 5x_2 \\\\\n",
    "\\mbox{subject to} \\; \\; 2.5x_1 + 5x_2 + x_3 = 350 \\\\\n",
    "5x_1 + 6x_2 + x_4 = 450 \\\\\n",
    "3x_1 + 2x_2 + x_5 = 240 \\\\\n",
    "x_1, x_2, x_3, x_4, x_5 \\geq 0\n",
    "$$\n",
    "\n",
    "行列$A$, ベクトル$\\boldsymbol{b}, \\boldsymbol{c}, \\boldsymbol{x}$を，\n",
    "$$\n",
    "A = \\left(\\begin{array}{ccccc}\n",
    "2.5 & 5 & 1 & 0 & 0 \\\\\n",
    "5 & 6 & 0 & 1 & 0 \\\\\n",
    "3 & 2 & 0 & 0 & 1\n",
    "\\end{array}\\right), \\; \\boldsymbol{b} = \\left(\n",
    "    \\begin{array}{c}\n",
    "    350 \\\\\n",
    "    450 \\\\\n",
    "    240\n",
    "    \\end{array}\n",
    "    \\right), \\; \\boldsymbol{c} = \\left(\n",
    "        \\begin{array}{c}\n",
    "        -4 \\\\\n",
    "        -5 \\\\\n",
    "        0 \\\\\n",
    "        0 \\\\\n",
    "        0\n",
    "        \\end{array}\n",
    "        \\right), \\; \\boldsymbol{x} = \\left(\n",
    "            \\begin{array}{c}\n",
    "            x_1 \\\\\n",
    "            x_2 \\\\\n",
    "            x_3 \\\\\n",
    "            x_4 \\\\\n",
    "            x_5\n",
    "            \\end{array}\n",
    "            \\right)\n",
    "$$\n",
    "とすると，この問題は，\n",
    "$$\n",
    "\\mbox{minimize} \\; \\; \\boldsymbol{c}^{\\mbox{T}}\\boldsymbol{x} \\\\\n",
    "\\mbox{subject to} \\; \\; A\\boldsymbol{x} = \\boldsymbol{b}\\\\\n",
    "\\boldsymbol{x} \\geq \\boldsymbol{0}\n",
    "$$\n",
    "となる．"
   ],
   "cell_type": "markdown",
   "metadata": {}
  },
  {
   "cell_type": "code",
   "execution_count": 4,
   "metadata": {},
   "outputs": [
    {
     "output_type": "stream",
     "name": "stdout",
     "text": [
      "x[0]: 15.000000\nx[1]: 62.500000\nx[2]: 0.000000\nx[3]: 0.000000\nx[4]: 70.000000\nobjective: -372.500000\ntime: 0.008561\n"
     ]
    }
   ],
   "source": [
    "# 標準形に直して定義\n",
    "## parameter\n",
    "nA = np.array([[2.5, 5, 1, 0, 0], [5, 6, 0, 1, 0], [3, 2, 0, 0, 1]])\n",
    "nb = np.array([[350], [450], [240]])\n",
    "nc = np.array([[-4], [-5], [0], [0], [0]])\n",
    "nxlst, nobj, nt_solve = Linear_problem(nA, nb, nc, 0, 0, \"Product\")"
   ]
  }
 ]
}